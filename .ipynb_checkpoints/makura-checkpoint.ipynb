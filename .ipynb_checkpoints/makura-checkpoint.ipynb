{
 "cells": [
  {
   "cell_type": "code",
   "execution_count": 2,
   "metadata": {},
   "outputs": [],
   "source": [
    "import requests\n",
    "from requests_html import HTML\n",
    "import time\n",
    "import datetime\n"
   ]
  },
  {
   "cell_type": "code",
   "execution_count": 3,
   "metadata": {},
   "outputs": [],
   "source": [
    "URL = 'https://www.boxofficemojo.com/year/world/'\n",
    "SAVE = False\n",
    "\n",
    "def get_file_name(filename, file_format):\n",
    "    now = datetime.datetime.now()\n",
    "    return '{}-{}-{}.{}'.format(filename,str(now.date()),str(now.time()).split('.')[0],file_format)\n",
    "\n",
    "\n",
    "def get_url_to_file(URL, SAVE):\n",
    "    r = requests.get(URL)\n",
    "    if r.status_code == 200:\n",
    "        filename = get_file_name('worldboxoffice', 'html')\n",
    "        html_text = r.text\n",
    "        if SAVE:\n",
    "            with open(filename, 'w') as f:\n",
    "                f.write(html_text)\n",
    "            print('loading.........................')\n",
    "            time.sleep(5)\n",
    "            print('Successfully written to file system')\n",
    "\n",
    "            return 'YOUR FILE HAS BEEN WRITTEN AS:   {}'.format(filename)\n",
    "\n",
    "    return html_text\n",
    "\n",
    "html_text = get_url_to_file(URL, SAVE)\n"
   ]
  },
  {
   "cell_type": "markdown",
   "metadata": {},
   "source": [
    "## Parsing the html file using requests_html library"
   ]
  },
  {
   "cell_type": "code",
   "execution_count": 34,
   "metadata": {},
   "outputs": [
    {
     "ename": "AttributeError",
     "evalue": "'list' object has no attribute 'find'",
     "output_type": "error",
     "traceback": [
      "\u001b[0;31m---------------------------------------------------------------------------\u001b[0m",
      "\u001b[0;31mAttributeError\u001b[0m                            Traceback (most recent call last)",
      "\u001b[0;32m<ipython-input-34-f1dc82983ee1>\u001b[0m in \u001b[0;36m<module>\u001b[0;34m\u001b[0m\n\u001b[1;32m      2\u001b[0m \u001b[0mtable_class\u001b[0m \u001b[0;34m=\u001b[0m \u001b[0;34m'.imdb-scroll-table-inner'\u001b[0m\u001b[0;34m\u001b[0m\u001b[0;34m\u001b[0m\u001b[0m\n\u001b[1;32m      3\u001b[0m \u001b[0mrequest_table\u001b[0m \u001b[0;34m=\u001b[0m \u001b[0mrequest_html\u001b[0m\u001b[0;34m.\u001b[0m\u001b[0mfind\u001b[0m\u001b[0;34m(\u001b[0m\u001b[0mtable_class\u001b[0m\u001b[0;34m)\u001b[0m\u001b[0;34m\u001b[0m\u001b[0;34m\u001b[0m\u001b[0m\n\u001b[0;32m----> 4\u001b[0;31m \u001b[0mprint\u001b[0m\u001b[0;34m(\u001b[0m\u001b[0mrequest_table\u001b[0m\u001b[0;34m.\u001b[0m\u001b[0mfind\u001b[0m\u001b[0;34m(\u001b[0m\u001b[0;34m'tr'\u001b[0m\u001b[0;34m)\u001b[0m\u001b[0;34m[\u001b[0m\u001b[0;36m0\u001b[0m\u001b[0;34m]\u001b[0m\u001b[0;34m.\u001b[0m\u001b[0mtext\u001b[0m\u001b[0;34m)\u001b[0m\u001b[0;34m\u001b[0m\u001b[0;34m\u001b[0m\u001b[0m\n\u001b[0m\u001b[1;32m      5\u001b[0m \u001b[0;34m\u001b[0m\u001b[0m\n",
      "\u001b[0;31mAttributeError\u001b[0m: 'list' object has no attribute 'find'"
     ]
    }
   ],
   "source": [
    "request_html = HTML(html=html_text)\n",
    "table_class = '.imdb-scroll-table-inner'\n",
    "request_table = request_html.find(table_class)\n",
    "print(request_table.find('tr')[0].text)\n",
    "\n"
   ]
  },
  {
   "cell_type": "code",
   "execution_count": null,
   "metadata": {},
   "outputs": [],
   "source": []
  }
 ],
 "metadata": {
  "kernelspec": {
   "display_name": "Python 3",
   "language": "python",
   "name": "python3"
  },
  "language_info": {
   "codemirror_mode": {
    "name": "ipython",
    "version": 3
   },
   "file_extension": ".py",
   "mimetype": "text/x-python",
   "name": "python",
   "nbconvert_exporter": "python",
   "pygments_lexer": "ipython3",
   "version": "3.8.0"
  }
 },
 "nbformat": 4,
 "nbformat_minor": 4
}
