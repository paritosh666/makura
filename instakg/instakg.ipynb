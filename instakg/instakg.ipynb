{
 "cells": [
  {
   "cell_type": "code",
   "execution_count": 1,
   "metadata": {},
   "outputs": [],
   "source": [
    "from selenium import webdriver\n",
    "from requests_html import HTML\n",
    "import time"
   ]
  },
  {
   "cell_type": "code",
   "execution_count": 65,
   "metadata": {},
   "outputs": [],
   "source": []
  },
  {
   "cell_type": "code",
   "execution_count": 99,
   "metadata": {},
   "outputs": [
    {
     "name": "stdout",
     "output_type": "stream",
     "text": [
      "eerrorrrrrr\n",
      "eerrorrrrrr\n",
      "eerrorrrrrr\n",
      "eerrorrrrrr\n",
      "eerrorrrrrr\n"
     ]
    }
   ],
   "source": [
    "browser = webdriver.Chrome()\n",
    "browser.get('https://www.instagram.com')\n",
    "USERNAME = 'psgpyc'\n",
    "PASSWORD = 'nepal123'\n",
    "time.sleep(2)\n",
    "username_el = browser.find_element_by_name('username')\n",
    "password_el = browser.find_element_by_name('password')\n",
    "time.sleep(2)\n",
    "username_el.send_keys(USERNAME)\n",
    "time.sleep(2)\n",
    "password_el.send_keys(PASSWORD)\n",
    "\n",
    "submit_el = browser.find_element_by_css_selector(\"button[type='submit']\")\n",
    "time.sleep(3)\n",
    "submit_el.click()\n",
    "time.sleep(3)\n",
    "path = 'https://www.instagram.com/vindiesel'\n",
    "browser.get(path)\n",
    "for i in range(10):\n",
    "    follow_button_xpath = \"//button[contains(text(), 'Follow')][not(contains(text(),'Following'))]\"\n",
    "    follow_btn_els = browser.find_element_by_xpath(follow_button_xpath)\n",
    "    time.sleep(3)\n",
    "    try:\n",
    "        follow_btn_els.click()\n",
    "    except:\n",
    "        print('eerrorrrrrr')\n"
   ]
  },
  {
   "cell_type": "code",
   "execution_count": 67,
   "metadata": {},
   "outputs": [],
   "source": [
    "USERNAME = 'psgpyc'\n",
    "PASSWORD = 'nepal123'"
   ]
  },
  {
   "cell_type": "code",
   "execution_count": 68,
   "metadata": {},
   "outputs": [],
   "source": [
    "username_el = browser.find_element_by_name('username')\n",
    "password_el = browser.find_element_by_name('password')\n",
    "time.sleep(2)\n",
    "username_el.send_keys(USERNAME)\n",
    "time.sleep(4)\n",
    "password_el.send_keys(PASSWORD)\n",
    "\n",
    "submit_el = browser.find_element_by_css_selector(\"button[type='submit']\")\n",
    "time.sleep(3)\n",
    "submit_el.click()"
   ]
  },
  {
   "cell_type": "code",
   "execution_count": 49,
   "metadata": {},
   "outputs": [],
   "source": [
    "# search_el = browser.find_element_by_css_selector(\"input[type='text']\")\n",
    "# time.sleep(2)\n",
    "# search_el.send_keys('kitabalaya ')\n",
    "# search_el.send_keys('ted')\n",
    "\n",
    "\n",
    "# select_search = browser.find_element_by_class_name('_2_M76')\n",
    "# search_el.send_keys('')\n",
    "\n",
    "\n",
    "# select_search.click()"
   ]
  },
  {
   "cell_type": "code",
   "execution_count": 82,
   "metadata": {},
   "outputs": [],
   "source": [
    "path = 'https://www.instagram.com/therock'\n",
    "browser.get(path)\n",
    "for i in range(10):\n",
    "    follow_button_xpath = \"//button[contains(text(), 'Follow')][not(contains(text(),'Following'))]\"\n",
    "    follow_btn_el = browser.find_element_by_xpath(follow_button_xpath)\n",
    "    time.sleep(3)\n",
    "    try:\n",
    "        follow_btn_el.click()\n",
    "    except:\n",
    "        pass\n"
   ]
  },
  {
   "cell_type": "code",
   "execution_count": null,
   "metadata": {},
   "outputs": [],
   "source": []
  }
 ],
 "metadata": {
  "kernelspec": {
   "display_name": "Python 3",
   "language": "python",
   "name": "python3"
  },
  "language_info": {
   "codemirror_mode": {
    "name": "ipython",
    "version": 3
   },
   "file_extension": ".py",
   "mimetype": "text/x-python",
   "name": "python",
   "nbconvert_exporter": "python",
   "pygments_lexer": "ipython3",
   "version": "3.8.0"
  }
 },
 "nbformat": 4,
 "nbformat_minor": 4
}
