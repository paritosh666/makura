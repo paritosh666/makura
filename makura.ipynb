{
 "cells": [
  {
   "cell_type": "code",
   "execution_count": 2,
   "metadata": {},
   "outputs": [],
   "source": [
    "import requests\n",
    "from requests_html import HTML\n",
    "import time\n",
    "import datetime\n"
   ]
  },
  {
   "cell_type": "code",
   "execution_count": 3,
   "metadata": {},
   "outputs": [],
   "source": [
    "URL = 'https://www.boxofficemojo.com/year/world/'\n",
    "SAVE = False\n",
    "\n",
    "def get_file_name(filename, file_format):\n",
    "    now = datetime.datetime.now()\n",
    "    return '{}-{}-{}.{}'.format(filename,str(now.date()),str(now.time()).split('.')[0],file_format)\n",
    "\n",
    "\n",
    "def get_url_to_file(URL, SAVE):\n",
    "    r = requests.get(URL)\n",
    "    if r.status_code == 200:\n",
    "        filename = get_file_name('worldboxoffice', 'html')\n",
    "        html_text = r.text\n",
    "        if SAVE:\n",
    "            with open(filename, 'w') as f:\n",
    "                f.write(html_text)\n",
    "            print('loading.........................')\n",
    "            time.sleep(5)\n",
    "            print('Successfully written to file system')\n",
    "\n",
    "            return 'YOUR FILE HAS BEEN WRITTEN AS:   {}'.format(filename)\n",
    "\n",
    "    return html_text\n",
    "\n",
    "html_text = get_url_to_file(URL, SAVE)\n"
   ]
  },
  {
   "cell_type": "markdown",
   "metadata": {},
   "source": [
    "## Parsing the html file using requests_html library"
   ]
  },
  {
   "cell_type": "code",
   "execution_count": 82,
   "metadata": {},
   "outputs": [
    {
     "name": "stdout",
     "output_type": "stream",
     "text": [
      "['32', 'A Quiet Place Part II', '$159', '-', '-', '$159', '100%']\n"
     ]
    }
   ],
   "source": [
    "request_html = HTML(html=html_text)\n",
    "table_class = '.imdb-scroll-table-inner'\n",
    "request_table = request_html.find(table_class)\n",
    "table_rows = request_table[0].find('tr')\n",
    "table_header = table_rows[0].text.split('\\n')\n",
    "table_data = []\n",
    "for row in table_rows[1:]:\n",
    "    row_data_element = row.find('td')\n",
    "    row_data = []\n",
    "    for i in row_data_element:\n",
    "        row_data.append(i.text)\n",
    "    \n",
    "    table_data.append(row_data)\n",
    "        \n",
    "    \n",
    "print(table_data)\n"
   ]
  },
  {
   "cell_type": "code",
   "execution_count": null,
   "metadata": {},
   "outputs": [],
   "source": []
  }
 ],
 "metadata": {
  "kernelspec": {
   "display_name": "Python 3",
   "language": "python",
   "name": "python3"
  },
  "language_info": {
   "codemirror_mode": {
    "name": "ipython",
    "version": 3
   },
   "file_extension": ".py",
   "mimetype": "text/x-python",
   "name": "python",
   "nbconvert_exporter": "python",
   "pygments_lexer": "ipython3",
   "version": "3.8.0"
  }
 },
 "nbformat": 4,
 "nbformat_minor": 4
}
