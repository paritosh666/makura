{
 "cells": [
  {
   "cell_type": "code",
   "execution_count": 109,
   "metadata": {},
   "outputs": [],
   "source": [
    "import datetime\n",
    "import json\n",
    "import requests\n",
    "from requests_html import HTML"
   ]
  },
  {
   "cell_type": "markdown",
   "metadata": {},
   "source": [
    "### Book Categories"
   ]
  },
  {
   "cell_type": "code",
   "execution_count": 125,
   "metadata": {},
   "outputs": [],
   "source": [
    "URL = 'https://www.booksmandala.com/'\n",
    "SAVE = False\n",
    "r = requests.get(URL)\n",
    "html_file = r.text\n",
    "parsed_html = HTML(html=html_file)\n",
    "categories = {}\n",
    "\n",
    "def get_categories(parsed_html_file, save):\n",
    "    '''\n",
    "    A function that takes a parsed html and generates the categories from mandala's website.\n",
    "    '''\n",
    "    \n",
    "    category = parsed_html.find('.megamenu') # gets all the categories from the category dropdown menu\n",
    "    particular_categories = category[0].find('ul') #each category elements\n",
    "\n",
    "    for each_categories in particular_categories[1:]:\n",
    "        get_li = each_categories.find('li') #each categories are stored in a li element\n",
    "        get_category = []\n",
    "        for i in get_li:\n",
    "            get_category.append(i.text)\n",
    "        book_categories.append(get_category)\n",
    "    for category in book_categories:\n",
    "        categories[category[0]] = category[1:]\n",
    "\n",
    "    if save:\n",
    "        with open('mandala_book_category.txt', 'w') as f:\n",
    "            f.write(json.dumps(categories))\n",
    "    return categories\n",
    "\n",
    "        \n",
    "mandala_category=get_categories(parsed_html_file=parsed_html, save=SAVE)\n"
   ]
  },
  {
   "cell_type": "markdown",
   "metadata": {},
   "source": [
    "### Books"
   ]
  },
  {
   "cell_type": "code",
   "execution_count": null,
   "metadata": {},
   "outputs": [],
   "source": [
    "books = {}\n",
    "book_index = 0\n",
    "\n",
    "\n",
    "for page in range(1,1403):\n",
    "    URL = 'https://www.booksmandala.com/books?page={}'.format(str(page))\n",
    "    SAVE = False\n",
    "    r = requests.get(URL)\n",
    "    html_file = r.text\n",
    "    parsed_html = HTML(html=html_file)\n",
    "\n",
    "    book_list = parsed_html.find('.search-result')\n",
    "    each_books = book_list[0].find('.card-body')\n",
    "    book_header = ['Title','Author(s)','Price', 'Availability']\n",
    "    book_details = []\n",
    "    for i in each_books:\n",
    "        book_details.append(i.text.split('\\n'))\n",
    "    for book in book_details:\n",
    "        val = 0\n",
    "\n",
    "        book_temp = {}\n",
    "        for j in book_header:\n",
    "\n",
    "            if val != 3: \n",
    "                if val == 1:\n",
    "                    author = {}\n",
    "                    author_list=book[1].split(',')\n",
    "                    for count,author_name in enumerate(author_list):\n",
    "                        if len(author_name)>1:\n",
    "                            author[count+1] = author_name[:-1]\n",
    "\n",
    "                    book_temp[j] = author\n",
    "                    val += 1\n",
    "                else:\n",
    "                    book_temp[j] = book[val]\n",
    "                    val += 1\n",
    "        books[f'book-{book_index}'] = book_temp\n",
    "        book_index = book_index + 1\n",
    "#     with open('books-list.txt', 'a') as f:\n",
    "#         f.write(json.dumps(books))\n",
    "        \n",
    "        \n",
    "    print(page, end=',')\n"
   ]
  },
  {
   "cell_type": "code",
   "execution_count": null,
   "metadata": {},
   "outputs": [],
   "source": []
  },
  {
   "cell_type": "code",
   "execution_count": null,
   "metadata": {},
   "outputs": [],
   "source": []
  },
  {
   "cell_type": "code",
   "execution_count": null,
   "metadata": {},
   "outputs": [],
   "source": []
  }
 ],
 "metadata": {
  "kernelspec": {
   "display_name": "Python 3",
   "language": "python",
   "name": "python3"
  },
  "language_info": {
   "codemirror_mode": {
    "name": "ipython",
    "version": 3
   },
   "file_extension": ".py",
   "mimetype": "text/x-python",
   "name": "python",
   "nbconvert_exporter": "python",
   "pygments_lexer": "ipython3",
   "version": "3.8.0"
  }
 },
 "nbformat": 4,
 "nbformat_minor": 4
}
